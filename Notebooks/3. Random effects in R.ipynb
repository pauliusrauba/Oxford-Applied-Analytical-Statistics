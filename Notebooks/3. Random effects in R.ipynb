{
 "cells": [
  {
   "cell_type": "code",
   "execution_count": 24,
   "metadata": {},
   "outputs": [],
   "source": [
    "library(tidyverse) \n",
    "library(plm)       \n",
    "library(stargazer)"
   ]
  },
  {
   "cell_type": "code",
   "execution_count": 8,
   "metadata": {},
   "outputs": [],
   "source": [
    "library(gplots)    # Various programing tools for plotting data\n",
    "library(tseries)   # For timeseries analysis\n",
    "library(lmtest)    # For hetoroskedasticity analysis"
   ]
  },
  {
   "cell_type": "code",
   "execution_count": 46,
   "metadata": {},
   "outputs": [],
   "source": [
    "df <- read_csv('2021-01-04 final_data.csv')"
   ]
  },
  {
   "cell_type": "code",
   "execution_count": 16,
   "metadata": {},
   "outputs": [],
   "source": [
    "df2 = df[(!df$country %in% 'Tanzania'),]"
   ]
  },
  {
   "cell_type": "code",
   "execution_count": 17,
   "metadata": {},
   "outputs": [],
   "source": [
    "formula = 'new_cases_per_100k_log ~ continent + individualism_index + gdp_per_capita + population_density + mobility_index + containment_health_index + democracy_index + distance_log + individualism_gov + cases_neighbors'"
   ]
  },
  {
   "cell_type": "code",
   "execution_count": 20,
   "metadata": {},
   "outputs": [],
   "source": [
    "random <- plm(formula, data = df, index=c('country', 'month'), model='random')\n",
    "random2 <- plm(formula, data = df2, index=c('country', 'month'), model='random')"
   ]
  },
  {
   "cell_type": "code",
   "execution_count": 21,
   "metadata": {},
   "outputs": [
    {
     "data": {
      "text/plain": [
       "\n",
       "Model Formula: new_cases_per_100k_log ~ continent + individualism_index + gdp_per_capita + \n",
       "    population_density + mobility_index + containment_health_index + \n",
       "    democracy_index + distance_log + individualism_gov + cases_neighbors\n",
       "<environment: 0x00000000413da088>\n",
       "\n",
       "Coefficients:\n",
       "             (Intercept)              continentAS              continentEU \n",
       "             -1.7983e+01               5.4801e-01               1.6504e+00 \n",
       "           continentN.A.              continentOC              continentSA \n",
       "              2.9611e-03              -2.5677e-01              -5.3848e-03 \n",
       "     individualism_index           gdp_per_capita       population_density \n",
       "              4.8431e-02               1.3222e-05               9.5528e-05 \n",
       "          mobility_index containment_health_index          democracy_index \n",
       "              2.4334e-02               2.1103e-01               4.0265e-03 \n",
       "            distance_log        individualism_gov          cases_neighbors \n",
       "              8.5184e-01              -8.4858e-04               2.8196e-03 \n"
      ]
     },
     "metadata": {},
     "output_type": "display_data"
    }
   ],
   "source": [
    "random2"
   ]
  },
  {
   "cell_type": "code",
   "execution_count": 22,
   "metadata": {},
   "outputs": [
    {
     "data": {
      "text/plain": [
       "Oneway (individual) effect Random Effect Model \n",
       "   (Swamy-Arora's transformation)\n",
       "\n",
       "Call:\n",
       "plm(formula = formula, data = df2, model = \"random\", index = c(\"country\", \n",
       "    \"month\"))\n",
       "\n",
       "Balanced Panel: n = 71, T = 11, N = 781\n",
       "\n",
       "Effects:\n",
       "                 var std.dev share\n",
       "idiosyncratic 6.6798  2.5845 0.937\n",
       "individual    0.4497  0.6706 0.063\n",
       "theta: 0.242\n",
       "\n",
       "Residuals:\n",
       "     Min.   1st Qu.    Median   3rd Qu.      Max. \n",
       "-18.22960  -1.19966   0.20843   1.58623   7.03223 \n",
       "\n",
       "Coefficients:\n",
       "                            Estimate  Std. Error z-value  Pr(>|z|)    \n",
       "(Intercept)              -1.7983e+01  4.5163e+00 -3.9818 6.839e-05 ***\n",
       "continentAS               5.4801e-01  7.1684e-01  0.7645 0.4445798    \n",
       "continentEU               1.6504e+00  5.3139e-01  3.1059 0.0018969 ** \n",
       "continentN.A.             2.9611e-03  5.9054e-01  0.0050 0.9959993    \n",
       "continentOC              -2.5677e-01  9.6101e-01 -0.2672 0.7893217    \n",
       "continentSA              -5.3848e-03  7.0735e-01 -0.0076 0.9939261    \n",
       "individualism_index       4.8431e-02  1.6020e-02  3.0231 0.0025018 ** \n",
       "gdp_per_capita            1.3222e-05  8.7559e-06  1.5101 0.1310184    \n",
       "population_density        9.5528e-05  1.4997e-04  0.6370 0.5241262    \n",
       "mobility_index            2.4334e-02  5.8837e-03  4.1358 3.538e-05 ***\n",
       "containment_health_index  2.1103e-01  1.1894e-02 17.7425 < 2.2e-16 ***\n",
       "democracy_index           4.0265e-03  1.1025e-02  0.3652 0.7149548    \n",
       "distance_log              8.5184e-01  4.6901e-01  1.8163 0.0693318 .  \n",
       "individualism_gov        -8.4858e-04  2.4755e-04 -3.4279 0.0006083 ***\n",
       "cases_neighbors           2.8196e-03  3.1095e-04  9.0678 < 2.2e-16 ***\n",
       "---\n",
       "Signif. codes:  0 '***' 0.001 '**' 0.01 '*' 0.05 '.' 0.1 ' ' 1\n",
       "\n",
       "Total Sum of Squares:    14644\n",
       "Residual Sum of Squares: 5608.7\n",
       "R-Squared:      0.61698\n",
       "Adj. R-Squared: 0.60998\n",
       "Chisq: 1233.92 on 14 DF, p-value: < 2.22e-16"
      ]
     },
     "metadata": {},
     "output_type": "display_data"
    }
   ],
   "source": [
    "summary(random2)"
   ]
  },
  {
   "cell_type": "code",
   "execution_count": 25,
   "metadata": {},
   "outputs": [
    {
     "data": {
      "text/plain": [
       "Oneway (individual) effect Random Effect Model \n",
       "   (Swamy-Arora's transformation)\n",
       "\n",
       "Call:\n",
       "plm(formula = formula, data = df, model = \"random\", index = c(\"country\", \n",
       "    \"month\"))\n",
       "\n",
       "Balanced Panel: n = 72, T = 11, N = 792\n",
       "\n",
       "Effects:\n",
       "                var std.dev share\n",
       "idiosyncratic 6.884   2.624   0.8\n",
       "individual    1.723   1.313   0.2\n",
       "theta: 0.4839\n",
       "\n",
       "Residuals:\n",
       "    Min.  1st Qu.   Median  3rd Qu.     Max. \n",
       "-17.6431  -1.2594   0.2553   1.5867   7.1128 \n",
       "\n",
       "Coefficients:\n",
       "                            Estimate  Std. Error z-value  Pr(>|z|)    \n",
       "(Intercept)              -2.0171e+01  6.4064e+00 -3.1485 0.0016410 ** \n",
       "continentAS               1.2898e+00  9.9784e-01  1.2926 0.1961648    \n",
       "continentEU               2.3783e+00  7.2661e-01  3.2731 0.0010638 ** \n",
       "continentN.A.             6.4972e-01  8.2041e-01  0.7919 0.4283909    \n",
       "continentOC               4.4231e-01  1.3618e+00  0.3248 0.7453334    \n",
       "continentSA               6.2777e-01  9.9178e-01  0.6330 0.5267532    \n",
       "individualism_index       5.4397e-02  1.8313e-02  2.9704 0.0029740 ** \n",
       "gdp_per_capita            1.3345e-05  1.2555e-05  1.0630 0.2877914    \n",
       "population_density        1.0079e-04  2.1503e-04  0.4687 0.6392610    \n",
       "mobility_index            2.6343e-02  5.9454e-03  4.4308 9.387e-06 ***\n",
       "containment_health_index  2.2524e-01  1.1794e-02 19.0986 < 2.2e-16 ***\n",
       "democracy_index           2.6366e-03  1.5803e-02  0.1668 0.8674948    \n",
       "distance_log              9.4077e-01  6.7024e-01  1.4036 0.1604264    \n",
       "individualism_gov        -9.3392e-04  2.4686e-04 -3.7833 0.0001548 ***\n",
       "cases_neighbors           2.7649e-03  3.0833e-04  8.9672 < 2.2e-16 ***\n",
       "---\n",
       "Signif. codes:  0 '***' 0.001 '**' 0.01 '*' 0.05 '.' 0.1 ' ' 1\n",
       "\n",
       "Total Sum of Squares:    14937\n",
       "Residual Sum of Squares: 5435.1\n",
       "R-Squared:      0.63613\n",
       "Adj. R-Squared: 0.62958\n",
       "Chisq: 1358.39 on 14 DF, p-value: < 2.22e-16"
      ]
     },
     "metadata": {},
     "output_type": "display_data"
    }
   ],
   "source": [
    "summary(random)"
   ]
  },
  {
   "cell_type": "code",
   "execution_count": 26,
   "metadata": {},
   "outputs": [
    {
     "name": "stdout",
     "output_type": "stream",
     "text": [
      "\n",
      "% Table created by stargazer v.5.2.2 by Marek Hlavac, Harvard University. E-mail: hlavac at fas.harvard.edu\n",
      "% Date and time: Wed, Jan 13, 2021 - 9:56:10 AM\n",
      "% Requires LaTeX packages: dcolumn \n",
      "\\begin{table}[!htbp] \\centering \n",
      "  \\caption{Random effects model} \n",
      "  \\label{} \n",
      "\\begin{tabular}{@{\\extracolsep{5pt}}lD{.}{.}{-3} } \n",
      "\\\\[-1.8ex]\\hline \n",
      "\\hline \\\\[-1.8ex] \n",
      " & \\multicolumn{1}{c}{\\textit{Dependent variable:}} \\\\ \n",
      "\\cline{2-2} \n",
      "\\\\[-1.8ex] & \\multicolumn{1}{c}{new\\_cases\\_per\\_100k\\_log} \\\\ \n",
      "\\hline \\\\[-1.8ex] \n",
      " continentAS & 0.548$ $(0.717) \\\\ \n",
      "  continentEU & 1.650^{***}$ $(0.531) \\\\ \n",
      "  continentN.A. & 0.003$ $(0.591) \\\\ \n",
      "  continentOC & -0.257$ $(0.961) \\\\ \n",
      "  continentSA & -0.005$ $(0.707) \\\\ \n",
      "  individualism\\_index & 0.048^{***}$ $(0.016) \\\\ \n",
      "  gdp\\_per\\_capita & 0.00001$ $(0.00001) \\\\ \n",
      "  population\\_density & 0.0001$ $(0.0001) \\\\ \n",
      "  mobility\\_index & 0.024^{***}$ $(0.006) \\\\ \n",
      "  containment\\_health\\_index & 0.211^{***}$ $(0.012) \\\\ \n",
      "  democracy\\_index & 0.004$ $(0.011) \\\\ \n",
      "  distance\\_log & 0.852^{*}$ $(0.469) \\\\ \n",
      "  individualism\\_gov & -0.001^{***}$ $(0.0002) \\\\ \n",
      "  cases\\_neighbors & 0.003^{***}$ $(0.0003) \\\\ \n",
      "  Constant & -17.983^{***}$ $(4.516) \\\\ \n",
      " \\hline \\\\[-1.8ex] \n",
      "Observations & \\multicolumn{1}{c}{781} \\\\ \n",
      "R$^{2}$ & \\multicolumn{1}{c}{0.617} \\\\ \n",
      "Adjusted R$^{2}$ & \\multicolumn{1}{c}{0.610} \\\\ \n",
      "F Statistic & \\multicolumn{1}{c}{1,233.921$^{***}$} \\\\ \n",
      "\\hline \n",
      "\\hline \\\\[-1.8ex] \n",
      "\\textit{Note:}  & \\multicolumn{1}{r}{$^{*}$p$<$0.1; $^{**}$p$<$0.05; $^{***}$p$<$0.01} \\\\ \n",
      "\\end{tabular} \n",
      "\\end{table} \n"
     ]
    }
   ],
   "source": [
    "stargazer(random2, summary=TRUE, title = 'Random effects model', align = TRUE, single.row=TRUE)"
   ]
  },
  {
   "cell_type": "markdown",
   "metadata": {},
   "source": [
    "## Serial correlation "
   ]
  },
  {
   "cell_type": "code",
   "execution_count": 30,
   "metadata": {},
   "outputs": [
    {
     "data": {
      "text/plain": [
       "\n",
       "\tBreusch-Godfrey/Wooldridge test for serial correlation in panel models\n",
       "\n",
       "data:  formula\n",
       "chisq = 112.71, df = 11, p-value < 2.2e-16\n",
       "alternative hypothesis: serial correlation in idiosyncratic errors\n"
      ]
     },
     "metadata": {},
     "output_type": "display_data"
    }
   ],
   "source": [
    "pbgtest(random2)"
   ]
  },
  {
   "cell_type": "code",
   "execution_count": 31,
   "metadata": {},
   "outputs": [
    {
     "data": {
      "text/plain": [
       "\n",
       "\tDurbin-Watson test for serial correlation in panel models\n",
       "\n",
       "data:  formula\n",
       "DW = 1.5762, p-value = 1.228e-10\n",
       "alternative hypothesis: serial correlation in idiosyncratic errors\n"
      ]
     },
     "metadata": {},
     "output_type": "display_data"
    }
   ],
   "source": [
    "pdwtest(random2)"
   ]
  },
  {
   "cell_type": "markdown",
   "metadata": {},
   "source": [
    "Serial correlation exists in idiosyncratic errors (positive autocorrelation, first order)"
   ]
  },
  {
   "cell_type": "markdown",
   "metadata": {},
   "source": [
    "The Consequences of Serial Correlation\n",
    "1. Pure serial correlation does not cause bias in the regression coefficient estimates.\n",
    "2. Serial correlation causes OLS to no longer be a minimum variance estimator.\n",
    "3. Serial correlation causes the estimated variances of the regression coefficients to be\n",
    "biased, leading to unreliable hypothesis testing. The t-statistics will actually appear\n",
    "to be more significant than they really are."
   ]
  },
  {
   "cell_type": "markdown",
   "metadata": {},
   "source": [
    "## Testing for unit roots/stationarity"
   ]
  },
  {
   "cell_type": "code",
   "execution_count": 36,
   "metadata": {},
   "outputs": [],
   "source": [
    "library(tseries)"
   ]
  },
  {
   "cell_type": "code",
   "execution_count": 38,
   "metadata": {},
   "outputs": [],
   "source": [
    "df2.set <- pdata.frame(df2, index = c('country', 'month'))"
   ]
  },
  {
   "cell_type": "code",
   "execution_count": 39,
   "metadata": {},
   "outputs": [
    {
     "name": "stderr",
     "output_type": "stream",
     "text": [
      "Warning message in adf.test(df2.set$individualism_index, k = 14):\n",
      "\"p-value smaller than printed p-value\"\n"
     ]
    },
    {
     "data": {
      "text/plain": [
       "\n",
       "\tAugmented Dickey-Fuller Test\n",
       "\n",
       "data:  df2.set$individualism_index\n",
       "Dickey-Fuller = -5.6576, Lag order = 14, p-value = 0.01\n",
       "alternative hypothesis: stationary\n"
      ]
     },
     "metadata": {},
     "output_type": "display_data"
    }
   ],
   "source": [
    "adf.test(df2.set$individualism_index, k=14)"
   ]
  },
  {
   "cell_type": "markdown",
   "metadata": {},
   "source": [
    "No unit root is present!"
   ]
  },
  {
   "cell_type": "markdown",
   "metadata": {},
   "source": [
    "## Heteroskedasticity"
   ]
  },
  {
   "cell_type": "code",
   "execution_count": 41,
   "metadata": {},
   "outputs": [],
   "source": [
    "formula2 = 'new_cases_per_100k_log ~ 1 + individualism_index + health_expenditure + gdp_per_capita + over65_per_capita + population_density + mobility_index + containment_health_index + democracy_index + distance + continent + factor(country)'"
   ]
  },
  {
   "cell_type": "code",
   "execution_count": 44,
   "metadata": {},
   "outputs": [
    {
     "data": {
      "text/plain": [
       "\n",
       "\tstudentized Breusch-Pagan test\n",
       "\n",
       "data:  random2\n",
       "BP = 143.52, df = 14, p-value < 2.2e-16\n"
      ]
     },
     "metadata": {},
     "output_type": "display_data"
    }
   ],
   "source": [
    "bptest(random2)"
   ]
  },
  {
   "cell_type": "markdown",
   "metadata": {},
   "source": [
    "We reject the hypothesis that the data is homoskedastic. Thus, I use robust standard errors"
   ]
  },
  {
   "cell_type": "code",
   "execution_count": 30,
   "metadata": {},
   "outputs": [
    {
     "name": "stdout",
     "output_type": "stream",
     "text": [
      "\n",
      "% Table created by stargazer v.5.2.2 by Marek Hlavac, Harvard University. E-mail: hlavac at fas.harvard.edu\n",
      "% Date and time: Thu, Jan 07, 2021 - 4:08:50 PM\n",
      "\\begin{table}[!htbp] \\centering \n",
      "  \\caption{} \n",
      "  \\label{} \n",
      "\\begin{tabular}{@{\\extracolsep{5pt}}lc} \n",
      "\\\\[-1.8ex]\\hline \n",
      "\\hline \\\\[-1.8ex] \n",
      " & \\multicolumn{1}{c}{\\textit{Dependent variable:}} \\\\ \n",
      "\\cline{2-2} \n",
      "\\\\[-1.8ex] &   \\\\ \n",
      "\\hline \\\\[-1.8ex] \n",
      " continentAS & 0.548 \\\\ \n",
      "  & (0.978) \\\\ \n",
      "  & \\\\ \n",
      " continentEU & 1.650$^{*}$ \\\\ \n",
      "  & (0.978) \\\\ \n",
      "  & \\\\ \n",
      " continentN.A. & 0.003 \\\\ \n",
      "  & (1.024) \\\\ \n",
      "  & \\\\ \n",
      " continentOC & $-$0.257 \\\\ \n",
      "  & (1.332) \\\\ \n",
      "  & \\\\ \n",
      " continentSA & $-$0.005 \\\\ \n",
      "  & (1.182) \\\\ \n",
      "  & \\\\ \n",
      " individualism\\_index & 0.048$^{**}$ \\\\ \n",
      "  & (0.021) \\\\ \n",
      "  & \\\\ \n",
      " gdp\\_per\\_capita & 0.00001 \\\\ \n",
      "  & (0.00001) \\\\ \n",
      "  & \\\\ \n",
      " population\\_density & 0.0001 \\\\ \n",
      "  & (0.0001) \\\\ \n",
      "  & \\\\ \n",
      " mobility\\_index & 0.024$^{***}$ \\\\ \n",
      "  & (0.006) \\\\ \n",
      "  & \\\\ \n",
      " containment\\_health\\_index & 0.211$^{***}$ \\\\ \n",
      "  & (0.017) \\\\ \n",
      "  & \\\\ \n",
      " democracy\\_index & 0.004 \\\\ \n",
      "  & (0.026) \\\\ \n",
      "  & \\\\ \n",
      " distance\\_log & 0.852 \\\\ \n",
      "  & (0.829) \\\\ \n",
      "  & \\\\ \n",
      " individualism\\_gov & $-$0.001$^{**}$ \\\\ \n",
      "  & (0.0003) \\\\ \n",
      "  & \\\\ \n",
      " cases\\_neighbors & 0.003$^{***}$ \\\\ \n",
      "  & (0.0003) \\\\ \n",
      "  & \\\\ \n",
      " Constant & $-$17.983$^{**}$ \\\\ \n",
      "  & (8.613) \\\\ \n",
      "  & \\\\ \n",
      "\\hline \\\\[-1.8ex] \n",
      "\\hline \n",
      "\\hline \\\\[-1.8ex] \n",
      "\\textit{Note:}  & \\multicolumn{1}{r}{$^{*}$p$<$0.1; $^{**}$p$<$0.05; $^{***}$p$<$0.01} \\\\ \n",
      "\\end{tabular} \n",
      "\\end{table} \n"
     ]
    }
   ],
   "source": [
    "stargazer(coeftest(random2, vcov = vcovHC(random, \"arellano\")))"
   ]
  },
  {
   "cell_type": "code",
   "execution_count": 31,
   "metadata": {},
   "outputs": [
    {
     "data": {
      "text/plain": [
       "Oneway (individual) effect Random Effect Model \n",
       "   (Swamy-Arora's transformation)\n",
       "\n",
       "Call:\n",
       "plm(formula = formula, data = df2, model = \"random\", index = c(\"country\", \n",
       "    \"month\"))\n",
       "\n",
       "Balanced Panel: n = 71, T = 11, N = 781\n",
       "\n",
       "Effects:\n",
       "                 var std.dev share\n",
       "idiosyncratic 6.6798  2.5845 0.937\n",
       "individual    0.4497  0.6706 0.063\n",
       "theta: 0.242\n",
       "\n",
       "Residuals:\n",
       "     Min.   1st Qu.    Median   3rd Qu.      Max. \n",
       "-18.22960  -1.19966   0.20843   1.58623   7.03223 \n",
       "\n",
       "Coefficients:\n",
       "                            Estimate  Std. Error z-value  Pr(>|z|)    \n",
       "(Intercept)              -1.7983e+01  4.5163e+00 -3.9818 6.839e-05 ***\n",
       "continentAS               5.4801e-01  7.1684e-01  0.7645 0.4445798    \n",
       "continentEU               1.6504e+00  5.3139e-01  3.1059 0.0018969 ** \n",
       "continentN.A.             2.9611e-03  5.9054e-01  0.0050 0.9959993    \n",
       "continentOC              -2.5677e-01  9.6101e-01 -0.2672 0.7893217    \n",
       "continentSA              -5.3848e-03  7.0735e-01 -0.0076 0.9939261    \n",
       "individualism_index       4.8431e-02  1.6020e-02  3.0231 0.0025018 ** \n",
       "gdp_per_capita            1.3222e-05  8.7559e-06  1.5101 0.1310184    \n",
       "population_density        9.5528e-05  1.4997e-04  0.6370 0.5241262    \n",
       "mobility_index            2.4334e-02  5.8837e-03  4.1358 3.538e-05 ***\n",
       "containment_health_index  2.1103e-01  1.1894e-02 17.7425 < 2.2e-16 ***\n",
       "democracy_index           4.0265e-03  1.1025e-02  0.3652 0.7149548    \n",
       "distance_log              8.5184e-01  4.6901e-01  1.8163 0.0693318 .  \n",
       "individualism_gov        -8.4858e-04  2.4755e-04 -3.4279 0.0006083 ***\n",
       "cases_neighbors           2.8196e-03  3.1095e-04  9.0678 < 2.2e-16 ***\n",
       "---\n",
       "Signif. codes:  0 '***' 0.001 '**' 0.01 '*' 0.05 '.' 0.1 ' ' 1\n",
       "\n",
       "Total Sum of Squares:    14644\n",
       "Residual Sum of Squares: 5608.7\n",
       "R-Squared:      0.61698\n",
       "Adj. R-Squared: 0.60998\n",
       "Chisq: 1233.92 on 14 DF, p-value: < 2.22e-16"
      ]
     },
     "metadata": {},
     "output_type": "display_data"
    }
   ],
   "source": [
    "summary(random2)"
   ]
  }
 ],
 "metadata": {
  "kernelspec": {
   "display_name": "R",
   "language": "R",
   "name": "ir"
  },
  "language_info": {
   "codemirror_mode": "r",
   "file_extension": ".r",
   "mimetype": "text/x-r-source",
   "name": "R",
   "pygments_lexer": "r",
   "version": "3.6.1"
  },
  "toc-showcode": false
 },
 "nbformat": 4,
 "nbformat_minor": 4
}
